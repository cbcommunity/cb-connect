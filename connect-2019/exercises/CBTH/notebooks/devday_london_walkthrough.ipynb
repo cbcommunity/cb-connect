{
 "cells": [
  {
   "cell_type": "markdown",
   "metadata": {},
   "source": [
    "# CBTH Search, Feed & Watchlist Short Demo\n",
    "\n",
    "This Jupyter Notebook will provide a brief walkthrough of the search, feed and watchlist fucntionality in CB ThreatHunter. For more detail walkthrough of what is possible via the API please take a look at the other notebooks available in this repo.\n",
    "\n",
    "## Prerequisites\n",
    "\n",
    "There are two prerequisites for using this code: first, you need credentials to log into the API for your\n",
    "Cb PSC organization; and second, you need the `cbapi` bindings to use this Python code directly. If you\n",
    "want to use another language, or to call the REST API endpoints manually, you won't need to install `cbapi`.\n",
    "\n",
    "### API Credentials\n",
    "\n",
    "The first step is to create connectors in your Cb PSC organization. Log into the console and follow the\n",
    "instructions at https://developer.carbonblack.com/reference/cb-defense/authentication/ to create an`API` type connector\n",
    "\n",
    "Once you have your connector, you'll need the following information:\n",
    "\n",
    "1. URL endpoint (e.g. `defense-prod05.conferdeploy.net`) for the APIs. This is the same URL you would use for the PSC Web UI\n",
    "2. Connector ID and API key for the API connector\n",
    "4. \"Org key\" - this is a unique identifier for your org and is displayed on the top of API Keys page\n",
    "\n",
    "### Install cbapi\n",
    "\n",
    "The second step is only if you want to run this code directly. This python script uses the `cbapi`\n",
    "module. The support for ThreatHunter in `cbapi` is being actively developed in a fork available from\n",
    "https://github.com/trailofbits/cbapi-python/tree/tob-cbth. To run this code as-is, you need to `git clone`\n",
    "that repository, change into the `tob-cbth` branch, and install `cbapi` in a virtualenv.\n",
    "\n",
    "`cbapi` uses credential file to read the API secret keys. Whenever you write scripts to interact with the\n",
    "Cb APIs (or any API for that matter) you should **always** keep your API secret keys separate from your script.\n",
    "If your script is ever exposed, either intentionally (by sharing it), or accidentally, then your API token\n",
    "could be compromised if it were embedded inside your script.\n",
    "\n",
    "To learn more about credential files and `cbapi`, see the docs at https://cbapi.readthedocs.io/en/latest/#api-credentials.\n",
    "\n",
    "## Documentation\n",
    "\n",
    "More information on configuring `cbapi`:\n",
    "https://cbapi.readthedocs.io/en/latest/installation.html\n",
    "\n",
    "Documentation for the ThreatHunter APIs is now available on the Developer Network website at: https://developer.carbonblack.com/reference/cb-threathunter/"
   ]
  },
  {
   "cell_type": "markdown",
   "metadata": {},
   "source": [
    "## Setup\n",
    "\n",
    "First lets add a paragraph to get the initial configuration of the `cbapi` objects ready to go\n",
    "If desired you can enable debug logging, which will provide an output of the underlying REST API calls that are made to the backend"
   ]
  },
  {
   "cell_type": "code",
   "execution_count": 93,
   "metadata": {},
   "outputs": [],
   "source": [
    "from cbapi.psc.threathunter import *\n",
    "#pretty printer for formating of the json responses\n",
    "import pprint\n",
    "import time\n",
    "\n",
    "# for debug logging import the logging module, and configure `cbapi` to DEBUG logging level\n",
    "import logging\n",
    "logging.basicConfig()\n",
    "#logging.getLogger(\"cbapi\").setLevel(logging.DEBUG)\n",
    "logging.getLogger(\"cbapi\").setLevel(logging.INFO)\n",
    "\n",
    "\n",
    "# The following will fail if you have not yet set up your credentials file\n",
    "th = CbThreatHunterAPI(profile=\"devday\") # profile is the name of your config block in you credentials file\n",
    "orgkey = th.credentials['org_key'] # makes for shorter URLs in future paragraphs"
   ]
  },
  {
   "cell_type": "markdown",
   "metadata": {},
   "source": [
    "## Search\n",
    "\n",
    "Now that we are set up, lets take a quick look at how search works for CB ThreatHunter. ThreatHunter is based on scalable and multi-tenant architecture that is capable of ingressing tens of millions of events per second. Searches are built to scale and perform.\n",
    "Searches in ThreatHunter are asynchronous. This allows better experience to both API and UI user since search can be initiated quickly and results can be gathered later and incrementally. Another advantage is that results can be referenced over and over, without re-running the search.\n",
    "\n",
    "For the purposes of today's demo we are going to skip over how to access these APIs either directly using something like `curl` and making raw requests leveraging `cbapi` supporting functions. Instead we will jump right to the full `cbapi` supported objects.\n",
    "\n",
    "**NOTE** for more information on search API, including architectural diagrams, reference the [Search Notebook](search_demo.ipynb)"
   ]
  },
  {
   "cell_type": "code",
   "execution_count": 94,
   "metadata": {},
   "outputs": [
    {
     "name": "stdout",
     "output_type": "stream",
     "text": [
      "[<cbapi.psc.threathunter.models.Process: id N4LFP2KN-00bbb744-000021a4-000000e9-1d552cd22a2604d> @ https://defense-prod05.conferdeploy.net]\n"
     ]
    }
   ],
   "source": [
    "query = th.select(Process).where(\"process_name:browser_broker.exe\")\n",
    "query_results = list(query) # get all results from this query into a list\n",
    "pprint.pprint(query_results)"
   ]
  },
  {
   "cell_type": "markdown",
   "metadata": {},
   "source": [
    "## Results Segmentation\n",
    "Like Cb Response, each query result actually represents a process \"segment\" - that is, a set of events\n",
    "associated with a process. \n",
    "If you issue default search request, all the segments will be returned, which could cause a lot of duplicate results for long-living processes.\n",
    "\n",
    "For more information about process segments, see https://developer.carbonblack.com/reference/enterprise-response/6.1/process-api-changes/#new-immutable-model.\n",
    "\n",
    "One way around this is to use `collapse` function available in Solr. In that case, CBTH will try its best to coalesce these results by process when possible, returning only the latest segment.\n",
    "Still, you might still get duplicates in two cases:\n",
    "1. If segments come from different indices\n",
    "2. If there are too many results for Solr to group in each index (threshold for this is currently configured at 1M results)\n",
    "\n",
    "**To create a unique list of process IDs (process_guid) we will create a map ourselves**"
   ]
  },
  {
   "cell_type": "code",
   "execution_count": 95,
   "metadata": {},
   "outputs": [
    {
     "name": "stdout",
     "output_type": "stream",
     "text": [
      "{'N4LFP2KN-00bbb744-000021a4-000000e9-1d552cd22a2604d': <cbapi.psc.threathunter.models.Process: id N4LFP2KN-00bbb744-000021a4-000000e9-1d552cd22a2604d> @ https://defense-prod05.conferdeploy.net}\n"
     ]
    }
   ],
   "source": [
    "unique_processes = {r.process_guid:r for r in query_results}\n",
    "pprint.pprint(unique_processes)"
   ]
  },
  {
   "cell_type": "markdown",
   "metadata": {},
   "source": [
    "Now lets take a deeper look at one of the process objects to see what sort of information has been retrieved."
   ]
  },
  {
   "cell_type": "code",
   "execution_count": 96,
   "metadata": {},
   "outputs": [
    {
     "name": "stdout",
     "output_type": "stream",
     "text": [
      "Process object, bound to https://defense-prod05.conferdeploy.net.\n",
      "-------------------------------------------------------------------------------\n",
      "\n",
      "       backend_timestamp: 2019-09-17T20:01:02.004Z\n",
      "         childproc_count: 0\n",
      "         crossproc_count: 0\n",
      "      device_external_ip: \n",
      "               device_id: 12302148\n",
      "      device_internal_ip: 96.234.213.61\n",
      "             device_name: pdftestspectacular\n",
      "               device_os: WINDOWS\n",
      "        device_policy_id: 12202\n",
      "        device_timestamp: 2019-09-17T19:59:54.959Z\n",
      "                enriched: True\n",
      "     enriched_event_type: NETWORK\n",
      "       event_description: The application \"<share><link hash=\"609a3a73a98...\n",
      "                event_id: b8cfbaa3d98511e9b0507b3efec0350c\n",
      "              event_type: netconn\n",
      "           filemod_count: 0\n",
      "             index_class: default\n",
      "                  legacy: True\n",
      "           modload_count: 0\n",
      "           netconn_count: 0\n",
      "                  org_id: N4LFP2KN\n",
      "            partition_id: 0\n",
      "         process_cmdline: ['C:\\\\Windows\\\\system32\\\\browser_broker.exe -Em...\n",
      "    process_effective_reputation: TRUSTED_WHITE_LIST\n",
      "            process_guid: N4LFP2KN-00bbb744-000021a4-000000e9-1d552cd22a2...\n",
      "            process_hash: ['08eae2a042c90db1dba4fb34e4d56264', '609a3a73a...\n",
      "            process_name: c:\\windows\\system32\\browser_broker.exe\n",
      "             process_pid: [8612]\n",
      "      process_reputation: TRUSTED_WHITE_LIST\n",
      "      process_terminated: False\n",
      "        process_username: ['PDFTESTSPECTACU\\\\IEUser']\n",
      "            regmod_count: 0\n",
      "        scriptload_count: 0\n",
      "                     ttp: ['NETWORK_ACCESS']\n"
     ]
    }
   ],
   "source": [
    "interesting_process_guid='N4LFP2KN-00bbb744-000021a4-000000e9-1d552cd22a2604d'\n",
    "process = unique_processes[interesting_process_guid]\n",
    "print(process)"
   ]
  },
  {
   "cell_type": "markdown",
   "metadata": {},
   "source": [
    "# Reports, Watchlists, and Feeds\n",
    "\n",
    "We are now going to transition over to setting up some example reports, watchlists and feeds that are related to the searches that we just performed.\n",
    "\n",
    "**NOTE** For more detailed information on the feeds and watchlists data model please take a look at [Watchlist Demo](watchlist_demo.ipynb)"
   ]
  },
  {
   "cell_type": "markdown",
   "metadata": {},
   "source": [
    "## Create a Query Based Report"
   ]
  },
  {
   "cell_type": "code",
   "execution_count": 97,
   "metadata": {},
   "outputs": [
    {
     "name": "stderr",
     "output_type": "stream",
     "text": [
      "WARNING:cbapi.psc.threathunter.models:Report created without feed ID or not from watchlist\n"
     ]
    },
    {
     "name": "stdout",
     "output_type": "stream",
     "text": [
      "Report object, bound to https://defense-prod05.conferdeploy.net.\n",
      "-------------------------------------------------------------------------------\n",
      "\n",
      "             description: Detected an instance of notepad.exe creating on...\n",
      "                      id: u0LxdkjSRo2pHorhsXnpEA\n",
      "                    iocs: None\n",
      "                 iocs_v2: [{'id': 'notepad_child_proc', 'match_type': 'qu...\n",
      "                    link: https://devday2019.carbonblack.com/notepadReport\n",
      "                severity: 8\n",
      "                    tags: None\n",
      "               timestamp: 1569546757\n",
      "                   title: Notepad spawning processes\n",
      "              visibility: None\n"
     ]
    }
   ],
   "source": [
    "report_dict = {\n",
    "    \"id\":\"randomidentifier\",\n",
    "    \"timestamp\": int(time.time()),\n",
    "    \"link\": \"https://devday2019.carbonblack.com/notepadReport\",\n",
    "    \"title\": \"Notepad spawning processes\",\n",
    "    \"description\": \"Detected an instance of notepad.exe creating one or more child processes\",\n",
    "    \"severity\": 8,\n",
    "    \"iocs_v2\": [\n",
    "        {\n",
    "            \"id\":\"notepad_child_proc\",\n",
    "            \"match_type\":\"query\",\n",
    "            \"values\":[\"process_name:notepad.exe childproc_count:[1 TO *]\"],\n",
    "            \"link\": \"https://devday2019.carbonblack.com/notepadReport\"\n",
    "        }\n",
    "    ]\n",
    "}\n",
    "\n",
    "report_obj = th.create(Report,report_dict)\n",
    "report_obj.save_watchlist()\n",
    "print(report_obj)"
   ]
  },
  {
   "cell_type": "markdown",
   "metadata": {},
   "source": [
    "## Create a Custom Watchlist\n",
    "\n",
    "In this paragraph we will create a custom watchlist that will firstbe populated with the report that we just created above"
   ]
  },
  {
   "cell_type": "code",
   "execution_count": 98,
   "metadata": {},
   "outputs": [
    {
     "data": {
      "text/plain": [
       "<cbapi.psc.threathunter.models.Watchlist: id XyxW3jZSY24cDt0TzAEVg> @ https://defense-prod05.conferdeploy.net"
      ]
     },
     "execution_count": 98,
     "metadata": {},
     "output_type": "execute_result"
    }
   ],
   "source": [
    "ts = int(time.time())\n",
    "watchlist_dict = {\n",
    "    \"create_timestamp\": ts,\n",
    "    \"last_update_timestamp\":ts,\n",
    "    \"name\": \"DevDay Test Watchlist\",\n",
    "    \"description\": \"Pretty cool, its a watchlist\",\n",
    "    \"tags_enabled\": True,\n",
    "    \"alerts_enabled\": False,\n",
    "    \"report_ids\": [report_obj.id]\n",
    "}\n",
    "\n",
    "watchlist_obj = th.create(Watchlist,watchlist_dict)\n",
    "watchlist_obj.save()"
   ]
  },
  {
   "cell_type": "markdown",
   "metadata": {},
   "source": [
    "And lets take a look to make sure the report got added correctly"
   ]
  },
  {
   "cell_type": "code",
   "execution_count": 99,
   "metadata": {},
   "outputs": [
    {
     "name": "stdout",
     "output_type": "stream",
     "text": [
      "Report object, bound to https://defense-prod05.conferdeploy.net.\n",
      "-------------------------------------------------------------------------------\n",
      "\n",
      "             description: Detected an instance of notepad.exe creating on...\n",
      "                      id: u0LxdkjSRo2pHorhsXnpEA\n",
      "                    iocs: None\n",
      "                 iocs_v2: [{'id': 'notepad_child_proc', 'match_type': 'qu...\n",
      "                    link: https://devday2019.carbonblack.com/notepadReport\n",
      "                severity: 8\n",
      "                    tags: None\n",
      "               timestamp: 1569546757\n",
      "                   title: Notepad spawning processes\n",
      "              visibility: None\n"
     ]
    }
   ],
   "source": [
    "for report in watchlist_obj.reports:\n",
    "    print(report)"
   ]
  },
  {
   "cell_type": "markdown",
   "metadata": {},
   "source": [
    "## Create an Ingress Based Report\n",
    "\n",
    "Ingress reports will be process as the event data is processed and index, they must only be created against a single field, but each field supports all the the \"match types\" that are provided in the query based reports"
   ]
  },
  {
   "cell_type": "code",
   "execution_count": 100,
   "metadata": {},
   "outputs": [
    {
     "name": "stderr",
     "output_type": "stream",
     "text": [
      "WARNING:cbapi.psc.threathunter.models:Report created without feed ID or not from watchlist\n"
     ]
    },
    {
     "name": "stdout",
     "output_type": "stream",
     "text": [
      "Report object, bound to https://defense-prod05.conferdeploy.net.\n",
      "-------------------------------------------------------------------------------\n",
      "\n",
      "             description: Detected an instance of suspicious notepad.exe\n",
      "                      id: pZ0hFfpRzqcwSgRkFiTgQ\n",
      "                    iocs: None\n",
      "                 iocs_v2: [{'id': 'notepad_name_ioc', 'match_type': 'rege...\n",
      "                    link: https://devday2019.carbonblack.com/notepadReport\n",
      "                severity: 8\n",
      "                    tags: None\n",
      "               timestamp: 1569546781\n",
      "                   title: Misspelled Notepad\n",
      "              visibility: None\n"
     ]
    }
   ],
   "source": [
    "ingress_report_dict = {\n",
    "    \"id\":\"randomidentifier\",\n",
    "    \"timestamp\": int(time.time()),\n",
    "    \"link\": \"https://devday2019.carbonblack.com/notepadReport\",\n",
    "    \"title\": \"Misspelled Notepad\",\n",
    "    \"description\": \"Detected an instance of suspicious notepad.exe\",\n",
    "    \"severity\": 8,\n",
    "    \"iocs_v2\": [\n",
    "        {\n",
    "            \"id\":\"notepad_name_ioc\",\n",
    "            \"match_type\":\"regex\",\n",
    "            \"field\":\"process_name\",\n",
    "            \"values\": [\".+/notep@d.exe\"],\n",
    "            \"link\": \"https://devday2019.carbonblack.com/notNotepad\"\n",
    "        }\n",
    "    ]\n",
    "}\n",
    "ingress_report_obj = th.create(Report,ingress_report_dict)\n",
    "ingress_report_obj.save_watchlist()\n",
    "print(ingress_report_obj)"
   ]
  },
  {
   "cell_type": "markdown",
   "metadata": {},
   "source": [
    "Now we are going to update our watchlist to include our ingress report as well, note that currently with `cbapi` you need to call they update which will overwrite existing reports that are tied to this watchlist."
   ]
  },
  {
   "cell_type": "code",
   "execution_count": 101,
   "metadata": {},
   "outputs": [
    {
     "name": "stdout",
     "output_type": "stream",
     "text": [
      "Report object, bound to https://defense-prod05.conferdeploy.net.\n",
      "-------------------------------------------------------------------------------\n",
      "\n",
      "             description: Detected an instance of suspicious notepad.exe\n",
      "                      id: pZ0hFfpRzqcwSgRkFiTgQ\n",
      "                    iocs: None\n",
      "                 iocs_v2: [{'id': 'notepad_name_ioc', 'match_type': 'rege...\n",
      "                    link: https://devday2019.carbonblack.com/notepadReport\n",
      "                severity: 8\n",
      "                    tags: None\n",
      "               timestamp: 1569546781\n",
      "                   title: Misspelled Notepad\n",
      "              visibility: None\n",
      "Report object, bound to https://defense-prod05.conferdeploy.net.\n",
      "-------------------------------------------------------------------------------\n",
      "\n",
      "             description: Detected an instance of suspicious notepad.exe\n",
      "                      id: pZ0hFfpRzqcwSgRkFiTgQ\n",
      "                    iocs: None\n",
      "                 iocs_v2: [{'id': 'notepad_name_ioc', 'match_type': 'rege...\n",
      "                    link: https://devday2019.carbonblack.com/notepadReport\n",
      "                severity: 8\n",
      "                    tags: None\n",
      "               timestamp: 1569546781\n",
      "                   title: Misspelled Notepad\n",
      "              visibility: None\n"
     ]
    }
   ],
   "source": [
    "watchlist_obj.id\n",
    "watchlist_obj.update(report_ids=[report_obj.id,ingress_report_obj.id])\n",
    "for report in watchlist_obj.reports:\n",
    "    print(report)"
   ]
  },
  {
   "cell_type": "markdown",
   "metadata": {},
   "source": [
    "## Create a Feed \n",
    "\n",
    "It turns out that all that the intel published by `@Heinzeralli` that we just leveraged to create our watchlist is actually part of a long running effort to give back to the CB ThreatHunter community and he is constantly pushing out new intel, maybe this should all actually be a feed.\n",
    "\n",
    "Note that, when creating feed, you need to put report definitions in place - you cannot reference existing reports. Also, you will need to provide report id for each, that will be unique within the feed.\n",
    "\n",
    "The first thing that we need to do is create a feed that will hold all of `@Heinzeralli`'s intel."
   ]
  },
  {
   "cell_type": "code",
   "execution_count": 102,
   "metadata": {},
   "outputs": [
    {
     "name": "stderr",
     "output_type": "stream",
     "text": [
      "WARNING:cbapi.psc.threathunter.models:Report created without feed ID or not from watchlist\n",
      "WARNING:cbapi.psc.threathunter.models:Report created without feed ID or not from watchlist\n"
     ]
    },
    {
     "name": "stdout",
     "output_type": "stream",
     "text": [
      "Feed object, bound to https://defense-prod05.conferdeploy.net.\n",
      "-------------------------------------------------------------------------------\n",
      "\n",
      "                  access: private\n",
      "                category: DevDay demo\n",
      "                      id: liWusbd1Qgm2IWcbZWMLw\n",
      "                    name: Notepad attacks\n",
      "                   owner: N4LFP2KN\n",
      "            provider_url: https://devday2019.carbonblack.com/notepadFeed\n",
      "            source_label: None\n",
      "                 summary: Various attacks using notepad\n"
     ]
    }
   ],
   "source": [
    "init_feed = {\n",
    "    \"feedinfo\":{\n",
    "        \"name\": \"Notepad attacks\", \n",
    "        \"provider_url\": \"https://devday2019.carbonblack.com/notepadFeed\",\n",
    "        \"summary\": \"Various attacks using notepad\",\n",
    "        \"category\": \"DevDay demo\",\n",
    "        \"access\":\"private\",\n",
    "        \"owner\":th.credentials['org_key']\n",
    "    }, \n",
    "    \"reports\":[{\"timestamp\": int(time.time()),\n",
    "    \"id\": \"report1\",\n",
    "    \"link\": \"https://devday2019.carbonblack.com/notepadIOCReport\",\n",
    "      \"title\": \"Misspelled notepad\",\n",
    "      \"description\": \"Detected an instance of suspicious notepad.exe\",\n",
    "      \"severity\": 7,\n",
    "      \"iocs_v2\": [\n",
    "          {\n",
    "              \"id\": \"query_notepad_ioc2\",\n",
    "              \"match_type\": \"regex\",\n",
    "              \"field\": \"process_name\",\n",
    "              \"values\": [\".+/notep@d.exe\"],\n",
    "              \"link\": \"https://devday2019.carbonblack.com/notepadIOCReport\"\n",
    "          }\n",
    "      ]\n",
    "    },                    \n",
    "   {\"timestamp\": int(time.time()),\n",
    "    \"id\": \"report2\",\n",
    "    \"link\": \"https://devday2019.carbonblack.com/notepadReport\",\n",
    "      \"title\": \"Notepad spawning processes\",\n",
    "      \"description\": \"Detected an instance of notepad.exe creation one or more child processes\",\n",
    "      \"severity\": 8,\n",
    "      \"iocs_v2\": [\n",
    "          {\n",
    "              \"id\": \"query_notepad_ioc\",\n",
    "              \"match_type\": \"query\",\n",
    "              \"values\": [\"process_name:notepad.exe childproc_count:[1 TO *]\"],\n",
    "              \"link\": \"https://devday2019.carbonblack.com/notepadReport\"\n",
    "          }\n",
    "      ]\n",
    "   }]\n",
    "}\n",
    "\n",
    "feed_obj = th.create(Feed,init_feed)\n",
    "feed_obj.save()\n",
    "print(feed_obj)"
   ]
  },
  {
   "cell_type": "markdown",
   "metadata": {},
   "source": [
    "In order to apply the intel in the feed to our data we need to \"subscribe\" by creating a watchlist that will essentially be a reference to the Feed.\n",
    "Rather than creating a brand new watchlist, we will just modify the one from our previous example to use the feed"
   ]
  },
  {
   "cell_type": "code",
   "execution_count": 103,
   "metadata": {},
   "outputs": [
    {
     "name": "stdout",
     "output_type": "stream",
     "text": [
      "Watchlist object, bound to https://defense-prod05.conferdeploy.net.\n",
      "-------------------------------------------------------------------------------\n",
      "\n",
      "          alerts_enabled: False\n",
      "              classifier: {'key': 'feed_id', 'value': 'liWusbd1Qgm2IWcbZW...\n",
      "        create_timestamp: 1569546764\n",
      "             description: Pretty cool, its a watchlist\n",
      "                      id: XyxW3jZSY24cDt0TzAEVg\n",
      "    last_update_timestamp: 1569546817\n",
      "                    name: DevDay Test Watchlist\n",
      "              report_ids: ['pZ0hFfpRzqcwSgRkFiTgQ', 'u0LxdkjSRo2pHorhsXnp...\n",
      "            tags_enabled: True\n"
     ]
    }
   ],
   "source": [
    "watchlist_obj.update(classifier={'key':'feed_id','value':feed_obj.id})\n",
    "print(watchlist_obj)"
   ]
  },
  {
   "cell_type": "code",
   "execution_count": 104,
   "metadata": {},
   "outputs": [
    {
     "name": "stderr",
     "output_type": "stream",
     "text": [
      "WARNING:cbapi.psc.threathunter.models:Report created without feed ID or not from watchlist\n"
     ]
    }
   ],
   "source": [
    "new_report_dict = {\n",
    "    \"id\":\"randomidentifier1\",\n",
    "    \"timestamp\": int(time.time()),\n",
    "    \"link\": \"https://devday2019.carbonblack.com/notepadReport\",\n",
    "    \"title\": \"Unusual Notepad Parent\",\n",
    "    \"description\": \"notepad.exe created by a process other than explorer.exe\",\n",
    "    \"severity\": 8,\n",
    "    \"iocs_v2\": [\n",
    "        {\n",
    "            \"id\":\"notepad_odd_parent\",\n",
    "            \"match_type\":\"query\",\n",
    "            \"values\":[\"process_name:notepad.exe -parent_name:explorer.exe\"],\n",
    "            \"link\": \"https://devday2019.carbonblack.com/notepadReport\"\n",
    "        }\n",
    "    ]\n",
    "}\n",
    "\n",
    "new_report_obj = th.create(Report,new_report_dict)\n",
    "feed_obj.append_reports([new_report_obj])"
   ]
  },
  {
   "cell_type": "markdown",
   "metadata": {},
   "source": [
    "# Clean up your org"
   ]
  },
  {
   "cell_type": "code",
   "execution_count": 105,
   "metadata": {},
   "outputs": [],
   "source": [
    "#delete the watchlist\n",
    "print(f\"Deleting watchlist {watchlist_obj.id}\")\n",
    "watchlist_obj.delete()\n",
    "#delete the reports as part of the feed\n",
    "for report in feed_obj.reports:\n",
    "    print(f\"Deleting report {report.id}\")\n",
    "    report.delete()\n",
    "#delete the feed\n",
    "p\n",
    "feed_obj.delete()"
   ]
  },
  {
   "cell_type": "code",
   "execution_count": null,
   "metadata": {},
   "outputs": [],
   "source": [
    "#clean up the orphaned reports from our first watchlist\n",
    "#`cbapi` has not yet implemented feedsearch so we use the raw object references\n",
    "ret = th.get_object(f\"/threathunter/feedsearch/v1/orgs/{orgkey}/search?query=devday2019\")\n",
    "for rid in ([r[\"_id\"] for r in ret[\"hits\"][\"hits\"]]):\n",
    "    print(f\"Deleting report {rid}\")\n",
    "    try:\n",
    "        th.delete_object(f\"/threathunter/watchlistmgr/v3/orgs/{orgkey}/reports/{rid}\")\n",
    "    except Exception as e:\n",
    "        print(f'...Failed to delete report {rid}: {e}')"
   ]
  }
 ],
 "metadata": {
  "kernelspec": {
   "display_name": "Python 3",
   "language": "python",
   "name": "python3"
  },
  "language_info": {
   "codemirror_mode": {
    "name": "ipython",
    "version": 3
   },
   "file_extension": ".py",
   "mimetype": "text/x-python",
   "name": "python",
   "nbconvert_exporter": "python",
   "pygments_lexer": "ipython3",
   "version": "3.7.4"
  }
 },
 "nbformat": 4,
 "nbformat_minor": 2
}
