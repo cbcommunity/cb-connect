{
 "cells": [
  {
   "cell_type": "markdown",
   "metadata": {},
   "source": [
    "# CBTH Search, Feed & Watchlist Short Demo\n",
    "\n",
    "This Jupyter Notebook will provide a brief walkthrough of the search, feed and watchlist fucntionality in CB ThreatHunter. For more detail walkthrough of what is possible via the API please take a look at the other notebooks available in this repo.\n",
    "\n",
    "## Prerequisites\n",
    "\n",
    "There are two prerequisites for using this code: first, you need credentials to log into the API for your\n",
    "Cb PSC organization; and second, you need the `cbapi` bindings to use this Python code directly. If you\n",
    "want to use another language, or to call the REST API endpoints manually, you won't need to install `cbapi`.\n",
    "\n",
    "### API Credentials\n",
    "\n",
    "The first step is to create connectors in your Cb PSC organization. Log into the console and follow the\n",
    "instructions at https://developer.carbonblack.com/reference/cb-defense/authentication/ to create an`API` type connector\n",
    "\n",
    "Once you have your connector, you'll need the following information:\n",
    "\n",
    "1. URL endpoint (e.g. `defense-prod05.conferdeploy.net`) for the APIs. This is the same URL you would use for the PSC Web UI\n",
    "2. Connector ID and API key for the API connector\n",
    "4. \"Org key\" - this is a unique identifier for your org and is displayed on the top of API Keys page\n",
    "\n",
    "### Install cbapi\n",
    "\n",
    "The second step is only if you want to run this code directly. This python script uses the `cbapi`\n",
    "module. The support for ThreatHunter in `cbapi` is being actively developed in a fork available from\n",
    "https://github.com/trailofbits/cbapi-python/tree/tob-cbth. To run this code as-is, you need to `git clone`\n",
    "that repository, change into the `tob-cbth` branch, and install `cbapi` in a virtualenv.\n",
    "\n",
    "`cbapi` uses credential file to read the API secret keys. Whenever you write scripts to interact with the\n",
    "Cb APIs (or any API for that matter) you should **always** keep your API secret keys separate from your script.\n",
    "If your script is ever exposed, either intentionally (by sharing it), or accidentally, then your API token\n",
    "could be compromised if it were embedded inside your script.\n",
    "\n",
    "To learn more about credential files and `cbapi`, see the docs at https://cbapi.readthedocs.io/en/latest/#api-credentials.\n",
    "\n",
    "## Documentation\n",
    "\n",
    "More information on configuring `cbapi`:\n",
    "https://cbapi.readthedocs.io/en/latest/installation.html\n",
    "\n",
    "Documentation for the ThreatHunter APIs is now available on the Developer Network website at: https://developer.carbonblack.com/reference/cb-threathunter/"
   ]
  },
  {
   "cell_type": "markdown",
   "metadata": {},
   "source": [
    "## Setup\n",
    "\n",
    "First lets add a paragraph to get the initial configuration of the `cbapi` objects ready to go\n",
    "If desired you can enable debug logging, which will provide an output of the underlying REST API calls that are made to the backend"
   ]
  },
  {
   "cell_type": "code",
   "execution_count": 16,
   "metadata": {},
   "outputs": [],
   "source": [
    "from cbapi.psc.threathunter import *\n",
    "#pretty printer for formating of the json responses\n",
    "import pprint\n",
    "import time\n",
    "\n",
    "# for debug logging import the logging module, and configure `cbapi` to DEBUG logging level\n",
    "#import logging\n",
    "#logging.basicConfig()\n",
    "#logging.getLogger(\"cbapi\").setLevel(logging.DEBUG)\n",
    "\n",
    "# The following will fail if you have not yet set up your credentials file\n",
    "th = CbThreatHunterAPI(profile=\"devday\") # profile is the name of your config block in you credentials file\n",
    "orgkey = th.credentials['org_key'] # makes for shorter URLs in future paragraphs"
   ]
  },
  {
   "cell_type": "markdown",
   "metadata": {},
   "source": [
    "## Search\n",
    "\n",
    "Now that we are set up, lets take a quick look at how search works for CB ThreatHunter. ThreatHunter is based on scalable and multi-tenant architecture that is capable of ingressing tens of millions of events per second. Searches are built to scale and perform.\n",
    "Searches in ThreatHunter are asynchronous. This allows better experience to both API and UI user since search can be initiated quickly and results can be gathered later and incrementally. Another advantage is that results can be referenced over and over, without re-running the search.\n",
    "\n",
    "For the purposes of today's demo we are going to skip over how to access these APIs either directly using something like `curl` and making raw requests leveraging `cbapi` supporting functions. Instead we will jump right to the full `cbapi` supported objects.\n",
    "\n",
    "**NOTE** for more information on search API, including architectural diagrams, reference the [Search Notebook](search_demo.ipynb)"
   ]
  },
  {
   "cell_type": "code",
   "execution_count": 15,
   "metadata": {},
   "outputs": [
    {
     "name": "stdout",
     "output_type": "stream",
     "text": [
      "[<cbapi.psc.threathunter.models.Process: id N4LFP2KN-00bbb744-000021a4-000000e9-1d552cd22a2604d> @ https://defense-prod05.conferdeploy.net]\n"
     ]
    }
   ],
   "source": [
    "query = th.select(Process).where(\"process_name:browser_broker.exe\")\n",
    "query_results = list(query) # get all results from this query into a list\n",
    "pprint.pprint(query_results)"
   ]
  },
  {
   "cell_type": "markdown",
   "metadata": {},
   "source": [
    "## Results Segmentation\n",
    "Like Cb Response, each query result actually represents a process \"segment\" - that is, a set of events\n",
    "associated with a process. \n",
    "If you issue default search request, all the segments will be returned, which could cause a lot of duplicate results for long-living processes.\n",
    "\n",
    "For more information about process segments, see https://developer.carbonblack.com/reference/enterprise-response/6.1/process-api-changes/#new-immutable-model.\n",
    "\n",
    "One way around this is to use `collapse` function available in Solr. In that case, CBTH will try its best to coalesce these results by process when possible, returning only the latest segment.\n",
    "Still, you might still get duplicates in two cases:\n",
    "1. If segments come from different indices\n",
    "2. If there are too many results for Solr to group in each index (threshold for this is currently configured at 1M results)\n",
    "\n",
    "**To create a unique list of process IDs (process_guid) we will create a map ourselves**"
   ]
  },
  {
   "cell_type": "code",
   "execution_count": 18,
   "metadata": {},
   "outputs": [
    {
     "name": "stdout",
     "output_type": "stream",
     "text": [
      "{'N4LFP2KN-00bbb744-000021a4-000000e9-1d552cd22a2604d': <cbapi.psc.threathunter.models.Process: id N4LFP2KN-00bbb744-000021a4-000000e9-1d552cd22a2604d> @ https://defense-prod05.conferdeploy.net}\n"
     ]
    }
   ],
   "source": [
    "unique_processes = {r.process_guid:r for r in query_results}\n",
    "pprint.pprint(unique_processes)"
   ]
  },
  {
   "cell_type": "markdown",
   "metadata": {},
   "source": [
    "Now lets take a deeper look at one of the process objects to see what sort of information has been retrieved."
   ]
  },
  {
   "cell_type": "code",
   "execution_count": 20,
   "metadata": {},
   "outputs": [
    {
     "name": "stdout",
     "output_type": "stream",
     "text": [
      "Process object, bound to https://defense-prod05.conferdeploy.net.\n",
      "-------------------------------------------------------------------------------\n",
      "\n",
      "       backend_timestamp: 2019-09-17T20:01:02.004Z\n",
      "         childproc_count: 0\n",
      "         crossproc_count: 0\n",
      "      device_external_ip: \n",
      "               device_id: 12302148\n",
      "      device_internal_ip: 96.234.213.61\n",
      "             device_name: pdftestspectacular\n",
      "               device_os: WINDOWS\n",
      "        device_policy_id: 12202\n",
      "        device_timestamp: 2019-09-17T19:59:54.959Z\n",
      "                enriched: True\n",
      "     enriched_event_type: NETWORK\n",
      "       event_description: The application \"<share><link hash=\"609a3a73a98...\n",
      "                event_id: b8cfbaa3d98511e9b0507b3efec0350c\n",
      "              event_type: netconn\n",
      "           filemod_count: 0\n",
      "             index_class: default\n",
      "                  legacy: True\n",
      "           modload_count: 0\n",
      "           netconn_count: 0\n",
      "                  org_id: N4LFP2KN\n",
      "            partition_id: 0\n",
      "         process_cmdline: ['C:\\\\Windows\\\\system32\\\\browser_broker.exe -Em...\n",
      "    process_effective_reputation: TRUSTED_WHITE_LIST\n",
      "            process_guid: N4LFP2KN-00bbb744-000021a4-000000e9-1d552cd22a2...\n",
      "            process_hash: ['08eae2a042c90db1dba4fb34e4d56264', '609a3a73a...\n",
      "            process_name: c:\\windows\\system32\\browser_broker.exe\n",
      "             process_pid: [8612]\n",
      "      process_reputation: TRUSTED_WHITE_LIST\n",
      "      process_terminated: False\n",
      "        process_username: ['PDFTESTSPECTACU\\\\IEUser']\n",
      "            regmod_count: 0\n",
      "        scriptload_count: 0\n",
      "                     ttp: ['NETWORK_ACCESS']\n"
     ]
    }
   ],
   "source": [
    "interesting_process_guid='N4LFP2KN-00bbb744-000021a4-000000e9-1d552cd22a2604d'\n",
    "process = unique_processes[interesting_process_guid]\n",
    "print(process)"
   ]
  },
  {
   "cell_type": "markdown",
   "metadata": {},
   "source": [
    "## Feeds and Watchlists\n",
    "\n",
    "We are now going to transition over to setting up some example reports, watchlists and feeds that are related to the searches that we just performed.\n",
    "\n",
    "**NOTE** For more detailed information on the feeds and watchlists data model please take a look at [Watchlist Demo](watchlist_demo.ipynb)"
   ]
  },
  {
   "cell_type": "markdown",
   "metadata": {},
   "source": [
    "The first thing that we will do is create a new **query based report**"
   ]
  },
  {
   "cell_type": "code",
   "execution_count": 59,
   "metadata": {},
   "outputs": [
    {
     "name": "stderr",
     "output_type": "stream",
     "text": [
      "WARNING:cbapi.psc.threathunter.models:Report created without feed ID or not from watchlist\n",
      "DEBUG:cbapi.connection:Sending HTTP POST /threathunter/watchlistmgr/v3/orgs/N4LFP2KN/reports with {\"description\": \"Detected an instance of notepad.exe creating one or more child processes\", \"id\": \"randomidentifier\", \"iocs_v2\": [{\"id\": \"notepad_child_proc\", \"link\": \"https://devday2019.carbonblack.com/notepadReport\", \"match_type\": \"query\", \"values\": [\"process_name:notepad.exe childproc_count:[1 TO *]\"]}], \"link\": \"https://devday2019.carbonblack.com/notepadReport\", \"severity\": 8, \"timestamp\": 1569529469, \"title\": \"Notepad spawning processes\"}\n",
      "DEBUG:cbapi.connection:HTTP POST /threathunter/watchlistmgr/v3/orgs/N4LFP2KN/reports took 0.244s (response 200)\n"
     ]
    },
    {
     "name": "stdout",
     "output_type": "stream",
     "text": [
      "Report object, bound to https://defense-prod05.conferdeploy.net.\n",
      "-------------------------------------------------------------------------------\n",
      "\n",
      "             description: Detected an instance of notepad.exe creating on...\n",
      "                      id: OnwHYUMISdmR0KAGET994g\n",
      "                    iocs: None\n",
      "                 iocs_v2: [{'id': 'notepad_child_proc', 'match_type': 'qu...\n",
      "                    link: https://devday2019.carbonblack.com/notepadReport\n",
      "                severity: 8\n",
      "                    tags: None\n",
      "               timestamp: 1569529469\n",
      "                   title: Notepad spawning processes\n",
      "              visibility: None\n"
     ]
    }
   ],
   "source": [
    "report_dict = {\n",
    "    \"id\":\"randomidentifier\",\n",
    "    \"timestamp\": int(time.time()),\n",
    "    \"link\": \"https://devday2019.carbonblack.com/notepadReport\",\n",
    "    \"title\": \"Notepad spawning processes\",\n",
    "    \"description\": \"Detected an instance of notepad.exe creating one or more child processes\",\n",
    "    \"severity\": 8,\n",
    "    \"iocs_v2\": [\n",
    "        {\n",
    "            \"id\":\"notepad_child_proc\",\n",
    "            \"match_type\":\"query\",\n",
    "            \"values\":[\"process_name:notepad.exe childproc_count:[1 TO *]\"],\n",
    "            \"link\": \"https://devday2019.carbonblack.com/notepadReport\"\n",
    "        }\n",
    "    ]\n",
    "}\n",
    "\n",
    "report_obj = th.create(Report,report_dict)\n",
    "report_obj.save_watchlist()\n",
    "print(report_obj)"
   ]
  },
  {
   "cell_type": "markdown",
   "metadata": {},
   "source": [
    "Now that we have a report we can connect the report to a visible watchlist. The watchlist will execute this report on data as it is coming in through the system"
   ]
  },
  {
   "cell_type": "code",
   "execution_count": 23,
   "metadata": {},
   "outputs": [
    {
     "data": {
      "text/plain": [
       "<cbapi.psc.threathunter.models.Watchlist: id FhQUSoh6S0G0WGqyh1UxjA> @ https://defense-prod05.conferdeploy.net"
      ]
     },
     "execution_count": 23,
     "metadata": {},
     "output_type": "execute_result"
    }
   ],
   "source": [
    "ts = int(time.time())\n",
    "watchlist_dict = {\n",
    "    \"create_timestamp\": ts,\n",
    "    \"last_update_timestamp\":ts,\n",
    "    \"name\": \"DevDay Test Watchlist\",\n",
    "    \"description\": \"Pretty cool, its a watchlist\",\n",
    "    \"tags_enabled\": True,\n",
    "    \"alerts_enabled\": False,\n",
    "    \"report_ids\": [report_obj.id]\n",
    "}\n",
    "\n",
    "watchlist_obj = th.create(Watchlist,watchlist_dict)\n",
    "watchlist_obj.save()"
   ]
  },
  {
   "cell_type": "markdown",
   "metadata": {},
   "source": [
    "And lets take a look to make sure the report got added correctly"
   ]
  },
  {
   "cell_type": "code",
   "execution_count": 70,
   "metadata": {},
   "outputs": [
    {
     "name": "stderr",
     "output_type": "stream",
     "text": [
      "DEBUG:cbapi.connection:HTTP GET /threathunter/watchlistmgr/v3/orgs/N4LFP2KN/reports/OnwHYUMISdmR0KAGET994g took 0.094s (response 200)\n"
     ]
    },
    {
     "name": "stdout",
     "output_type": "stream",
     "text": [
      "Report object, bound to https://defense-prod05.conferdeploy.net.\n",
      "-------------------------------------------------------------------------------\n",
      "\n",
      "             description: Detected an instance of notepad.exe creating on...\n",
      "                      id: OnwHYUMISdmR0KAGET994g\n",
      "                    iocs: None\n",
      "                 iocs_v2: [{'id': 'notepad_child_proc', 'match_type': 'qu...\n",
      "                    link: https://devday2019.carbonblack.com/notepadReport\n",
      "                severity: 8\n",
      "                    tags: None\n",
      "               timestamp: 1569529469\n",
      "                   title: Notepad spawning processes\n",
      "              visibility: None\n"
     ]
    }
   ],
   "source": [
    "for report in watchlist_obj.reports:\n",
    "    print(report)"
   ]
  },
  {
   "cell_type": "markdown",
   "metadata": {},
   "source": [
    "# Create an Ingress Based Report\n",
    "\n",
    "Ingress reports will be process as the event data is processed and index, they must only be created against a single field, but each field supports all the the \"match types\" that are provided in the query based reports"
   ]
  },
  {
   "cell_type": "code",
   "execution_count": 77,
   "metadata": {},
   "outputs": [
    {
     "name": "stderr",
     "output_type": "stream",
     "text": [
      "WARNING:cbapi.psc.threathunter.models:Report created without feed ID or not from watchlist\n",
      "DEBUG:cbapi.connection:Sending HTTP POST /threathunter/watchlistmgr/v3/orgs/N4LFP2KN/reports with {\"description\": \"Detected an instance of notepad.exe creating one or more child processes\", \"id\": \"randomidentifier\", \"iocs_v2\": [{\"field\": \"process_name\", \"id\": \"notepad_name_ioc\", \"link\": \"https://devday2019.carbonblack.com/notNotepad\", \"match_type\": \"regex\", \"values\": [\".+/notep@d.exe\"]}], \"link\": \"https://devday2019.carbonblack.com/notepadReport\", \"severity\": 8, \"timestamp\": 1569532167, \"title\": \"Notepad spawning processes\"}\n",
      "DEBUG:cbapi.connection:HTTP POST /threathunter/watchlistmgr/v3/orgs/N4LFP2KN/reports took 0.133s (response 200)\n"
     ]
    },
    {
     "name": "stdout",
     "output_type": "stream",
     "text": [
      "Report object, bound to https://defense-prod05.conferdeploy.net.\n",
      "-------------------------------------------------------------------------------\n",
      "\n",
      "             description: Detected an instance of notepad.exe creating on...\n",
      "                      id: a275KJ2zQaCqPyJwp9QB0Q\n",
      "                    iocs: None\n",
      "                 iocs_v2: [{'id': 'notepad_name_ioc', 'match_type': 'rege...\n",
      "                    link: https://devday2019.carbonblack.com/notepadReport\n",
      "                severity: 8\n",
      "                    tags: None\n",
      "               timestamp: 1569532167\n",
      "                   title: Notepad spawning processes\n",
      "              visibility: None\n"
     ]
    }
   ],
   "source": [
    "ingress_report_dict = {\n",
    "    \"id\":\"randomidentifier\",\n",
    "    \"timestamp\": int(time.time()),\n",
    "    \"link\": \"https://devday2019.carbonblack.com/notepadReport\",\n",
    "    \"title\": \"Misspelled Notepad\",\n",
    "    \"description\": \"Detected an instance of suspicious notepad.exe\",\n",
    "    \"severity\": 8,\n",
    "    \"iocs_v2\": [\n",
    "        {\n",
    "            \"id\":\"notepad_name_ioc\",\n",
    "            \"match_type\":\"regex\",\n",
    "            \"field\":\"process_name\",\n",
    "            \"values\": [\".+/notep@d.exe\"],\n",
    "            \"link\": \"https://devday2019.carbonblack.com/notNotepad\"\n",
    "        }\n",
    "    ]\n",
    "}\n",
    "ingress_report_obj = th.create(Report,ingress_report_dict)\n",
    "ingress_report_obj.save_watchlist()\n",
    "print(ingress_report_obj)"
   ]
  },
  {
   "cell_type": "markdown",
   "metadata": {},
   "source": [
    "Now we are going to update our watchlist to include our ingress report as well, note that currently with `cbapi` you need to call they update which will overwrite existing reports that are tied to this watchlist."
   ]
  },
  {
   "cell_type": "code",
   "execution_count": 78,
   "metadata": {},
   "outputs": [
    {
     "name": "stderr",
     "output_type": "stream",
     "text": [
      "DEBUG:cbapi.connection:Sending HTTP PUT /threathunter/watchlistmgr/v3/orgs/N4LFP2KN/watchlists/FhQUSoh6S0G0WGqyh1UxjA with {\"alerts_enabled\": false, \"classifier\": null, \"create_timestamp\": 1569524235, \"description\": \"Pretty cool, its a watchlist\", \"id\": \"FhQUSoh6S0G0WGqyh1UxjA\", \"last_update_timestamp\": 1569530336, \"name\": \"DevDay Test Watchlist\", \"report_ids\": [\"vAhoXP36ST6e4guEgChWeA\", \"a275KJ2zQaCqPyJwp9QB0Q\"], \"tags_enabled\": true}\n",
      "DEBUG:cbapi.connection:HTTP PUT /threathunter/watchlistmgr/v3/orgs/N4LFP2KN/watchlists/FhQUSoh6S0G0WGqyh1UxjA took 0.397s (response 200)\n",
      "DEBUG:cbapi.connection:HTTP GET /threathunter/watchlistmgr/v3/orgs/N4LFP2KN/reports/a275KJ2zQaCqPyJwp9QB0Q took 0.144s (response 200)\n",
      "DEBUG:cbapi.connection:HTTP GET /threathunter/watchlistmgr/v3/orgs/N4LFP2KN/reports/a275KJ2zQaCqPyJwp9QB0Q took 0.079s (response 200)\n"
     ]
    },
    {
     "name": "stdout",
     "output_type": "stream",
     "text": [
      "Report object, bound to https://defense-prod05.conferdeploy.net.\n",
      "-------------------------------------------------------------------------------\n",
      "\n",
      "             description: Detected an instance of notepad.exe creating on...\n",
      "                      id: a275KJ2zQaCqPyJwp9QB0Q\n",
      "                    iocs: None\n",
      "                 iocs_v2: [{'id': 'notepad_name_ioc', 'match_type': 'rege...\n",
      "                    link: https://devday2019.carbonblack.com/notepadReport\n",
      "                severity: 8\n",
      "                    tags: None\n",
      "               timestamp: 1569532167\n",
      "                   title: Notepad spawning processes\n",
      "              visibility: None\n",
      "Report object, bound to https://defense-prod05.conferdeploy.net.\n",
      "-------------------------------------------------------------------------------\n",
      "\n",
      "             description: Detected an instance of notepad.exe creating on...\n",
      "                      id: a275KJ2zQaCqPyJwp9QB0Q\n",
      "                    iocs: None\n",
      "                 iocs_v2: [{'id': 'notepad_name_ioc', 'match_type': 'rege...\n",
      "                    link: https://devday2019.carbonblack.com/notepadReport\n",
      "                severity: 8\n",
      "                    tags: None\n",
      "               timestamp: 1569532167\n",
      "                   title: Notepad spawning processes\n",
      "              visibility: None\n"
     ]
    }
   ],
   "source": [
    "watchlist_obj.id\n",
    "watchlist_obj.update(report_ids=[report_obj.id,ingress_report_obj.id])\n",
    "for report in watchlist_obj.reports:\n",
    "    print(report)"
   ]
  },
  {
   "cell_type": "code",
   "execution_count": null,
   "metadata": {},
   "outputs": [],
   "source": []
  }
 ],
 "metadata": {
  "kernelspec": {
   "display_name": "Python 3",
   "language": "python",
   "name": "python3"
  },
  "language_info": {
   "codemirror_mode": {
    "name": "ipython",
    "version": 3
   },
   "file_extension": ".py",
   "mimetype": "text/x-python",
   "name": "python",
   "nbconvert_exporter": "python",
   "pygments_lexer": "ipython3",
   "version": "3.7.4"
  }
 },
 "nbformat": 4,
 "nbformat_minor": 2
}
