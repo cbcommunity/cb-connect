{
 "cells": [
  {
   "cell_type": "markdown",
   "metadata": {},
   "source": [
    "# CBTH Search, Feed & Watchlist Short Demo\n",
    "\n",
    "This Jupyter Notebook will provide a brief walkthrough of the search, feed and watchlist fucntionality in CB ThreatHunter. For more detail walkthrough of what is possible via the API please take a look at the other notebooks available in this repo.\n",
    "\n",
    "## Prerequisites\n",
    "\n",
    "There are two prerequisites for using this code: first, you need credentials to log into the API for your\n",
    "Cb PSC organization; and second, you need the `cbapi` bindings to use this Python code directly. If you\n",
    "want to use another language, or to call the REST API endpoints manually, you won't need to install `cbapi`.\n",
    "\n",
    "### API Credentials\n",
    "\n",
    "The first step is to create connectors in your Cb PSC organization. Log into the console and follow the\n",
    "instructions at https://developer.carbonblack.com/reference/cb-defense/authentication/ to create an`API` type connector\n",
    "\n",
    "Once you have your connector, you'll need the following information:\n",
    "\n",
    "1. URL endpoint (e.g. `defense-prod05.conferdeploy.net`) for the APIs. This is the same URL you would use for the PSC Web UI\n",
    "2. Connector ID and API key for the API connector\n",
    "4. \"Org key\" - this is a unique identifier for your org and is displayed on the top of API Keys page\n",
    "\n",
    "### Install cbapi\n",
    "\n",
    "The second step is only if you want to run this code directly. This python script uses the `cbapi`\n",
    "module. The support for ThreatHunter in `cbapi` is being actively developed in a fork available from\n",
    "https://github.com/trailofbits/cbapi-python/tree/tob-cbth. To run this code as-is, you need to `git clone`\n",
    "that repository, change into the `tob-cbth` branch, and install `cbapi` in a virtualenv.\n",
    "\n",
    "`cbapi` uses credential file to read the API secret keys. Whenever you write scripts to interact with the\n",
    "Cb APIs (or any API for that matter) you should **always** keep your API secret keys separate from your script.\n",
    "If your script is ever exposed, either intentionally (by sharing it), or accidentally, then your API token\n",
    "could be compromised if it were embedded inside your script.\n",
    "\n",
    "To learn more about credential files and `cbapi`, see the docs at https://cbapi.readthedocs.io/en/latest/#api-credentials.\n",
    "\n",
    "## Documentation\n",
    "\n",
    "More information on configuring `cbapi`:\n",
    "https://cbapi.readthedocs.io/en/latest/installation.html\n",
    "\n",
    "Documentation for the ThreatHunter APIs is now available on the Developer Network website at: https://developer.carbonblack.com/reference/cb-threathunter/"
   ]
  },
  {
   "cell_type": "markdown",
   "metadata": {},
   "source": [
    "## Story Line\n",
    "\n",
    "To make things a little more interesting the API used today will be coupled with a hypotheical, but entirely plausible story line which would warrant the use of search, watchlists, and feeds in CB ThreatHunter. \n",
    "\n",
    "We will focus on a public source of intel that is coming from a CBTH user already formated in the form of CBTH queries. In this scenario the user is sharing search through a twitter account: `@Heinzeralli`"
   ]
  },
  {
   "cell_type": "markdown",
   "metadata": {},
   "source": [
    "## Setup\n",
    "\n",
    "First lets add a paragraph to get the initial configuration of the `cbapi` objects ready to go\n",
    "If desired you can enable debug logging, which will provide an output of the underlying REST API calls that are made to the backend"
   ]
  },
  {
   "cell_type": "code",
   "execution_count": 1,
   "metadata": {},
   "outputs": [],
   "source": [
    "from cbapi.psc.threathunter import *\n",
    "#pretty printer for formating of the json responses\n",
    "import pprint\n",
    "import time\n",
    "\n",
    "# for debug logging import the logging module, and configure `cbapi` to DEBUG logging level\n",
    "#import logging\n",
    "#logging.basicConfig()\n",
    "#logging.getLogger(\"cbapi\").setLevel(logging.DEBUG)\n",
    "#bump logging back to info after debug session \n",
    "#logging.getLogger(\"cbapi\").setLevel(logging.INFO)\n",
    "\n",
    "\n",
    "# The following will fail if you have not yet set up your credentials file\n",
    "th = CbThreatHunterAPI(profile=\"devday\") # profile is the name of your config block in you credentials file\n",
    "orgkey = th.credentials['org_key'] # makes for shorter URLs in future paragraphs"
   ]
  },
  {
   "cell_type": "markdown",
   "metadata": {},
   "source": [
    "## Search\n",
    "\n",
    "Now that we are set up, lets take a quick look at how search works for CB ThreatHunter. ThreatHunter is based on scalable and multi-tenant architecture that is capable of ingressing tens of millions of events per second. Searches are built to scale and perform.\n",
    "Searches in ThreatHunter are asynchronous. This allows better experience to both API and UI user since search can be initiated quickly and results can be gathered later and incrementally. Another advantage is that results can be referenced over and over, without re-running the search.\n",
    "\n",
    "For the purposes of today's demo we are going to skip over how to access these APIs either directly using something like `curl` and making raw requests leveraging `cbapi` supporting functions. Instead we will jump right to the full `cbapi` supported objects.\n",
    "\n",
    "**NOTE** for more information on search API, including architectural diagrams, reference the [Search Notebook](search_demo.ipynb)\n",
    "\n",
    "After following `@Heinzeralli` for some period of time we finally get the urge to start looking for some of the \"IOC\" data that he is sharing in our own environment. In their most recent tweet `@Heinzeralli` shared some indications of potentially malicious Microsoft Excel activity, in particular Excel launching an instance of powershell."
   ]
  },
  {
   "cell_type": "code",
   "execution_count": 5,
   "metadata": {},
   "outputs": [
    {
     "name": "stdout",
     "output_type": "stream",
     "text": [
      "[<cbapi.psc.threathunter.models.Process: id N4LFP2KN-00c0fdce-000008b0-00000000-1d57793423b0e30> @ https://defense-prod05.conferdeploy.net,\n",
      " <cbapi.psc.threathunter.models.Process: id N4LFP2KN-00c0fdce-00001694-00000000-1d577930b7260e2> @ https://defense-prod05.conferdeploy.net,\n",
      " <cbapi.psc.threathunter.models.Process: id N4LFP2KN-00c0fdce-00000f10-00000000-1d57793dd82137a> @ https://defense-prod05.conferdeploy.net,\n",
      " <cbapi.psc.threathunter.models.Process: id N4LFP2KN-00c0fdce-000008b0-00000000-1d57793423b0e30> @ https://defense-prod05.conferdeploy.net,\n",
      " <cbapi.psc.threathunter.models.Process: id N4LFP2KN-00c0fdce-00000f10-00000000-1d57793dd82137a> @ https://defense-prod05.conferdeploy.net,\n",
      " <cbapi.psc.threathunter.models.Process: id N4LFP2KN-00c0fdce-00000f10-00000000-1d57793dd82137a> @ https://defense-prod05.conferdeploy.net,\n",
      " <cbapi.psc.threathunter.models.Process: id N4LFP2KN-00c0fdce-00000f10-00000000-1d57793dd82137a> @ https://defense-prod05.conferdeploy.net,\n",
      " <cbapi.psc.threathunter.models.Process: id N4LFP2KN-00c0fdce-00000f10-00000000-1d57793dd82137a> @ https://defense-prod05.conferdeploy.net]\n"
     ]
    }
   ],
   "source": [
    "query = th.select(Process).where(\"process_name:excel.exe childproc_name: powershell.exe -enriched:True\")\n",
    "query_results = list(query) # get all results from this query into a list\n",
    "pprint.pprint(query_results)"
   ]
  },
  {
   "cell_type": "markdown",
   "metadata": {},
   "source": [
    "## Results Segmentation\n",
    "Like Cb Response, each query result actually represents a process \"segment\" - that is, a set of events\n",
    "associated with a process. \n",
    "If you issue default search request, all the segments will be returned, which could cause a lot of results that appear to be duplicates for long-living processes.\n",
    "\n",
    "For more information about process segments, see https://developer.carbonblack.com/reference/enterprise-response/6.1/process-api-changes/#new-immutable-model.\n",
    "\n",
    "**To create a unique list of process IDs (process_guid) we will create a map ourselves**"
   ]
  },
  {
   "cell_type": "code",
   "execution_count": 6,
   "metadata": {},
   "outputs": [
    {
     "name": "stdout",
     "output_type": "stream",
     "text": [
      "{'N4LFP2KN-00c0fdce-000008b0-00000000-1d57793423b0e30': <cbapi.psc.threathunter.models.Process: id N4LFP2KN-00c0fdce-000008b0-00000000-1d57793423b0e30> @ https://defense-prod05.conferdeploy.net,\n",
      " 'N4LFP2KN-00c0fdce-00000f10-00000000-1d57793dd82137a': <cbapi.psc.threathunter.models.Process: id N4LFP2KN-00c0fdce-00000f10-00000000-1d57793dd82137a> @ https://defense-prod05.conferdeploy.net,\n",
      " 'N4LFP2KN-00c0fdce-00001694-00000000-1d577930b7260e2': <cbapi.psc.threathunter.models.Process: id N4LFP2KN-00c0fdce-00001694-00000000-1d577930b7260e2> @ https://defense-prod05.conferdeploy.net}\n"
     ]
    }
   ],
   "source": [
    "unique_processes = {r.process_guid:r for r in query_results}\n",
    "pprint.pprint(unique_processes)"
   ]
  },
  {
   "cell_type": "markdown",
   "metadata": {},
   "source": [
    "Now lets take a deeper look at one of the process objects to see what sort of information has been retrieved."
   ]
  },
  {
   "cell_type": "code",
   "execution_count": 7,
   "metadata": {},
   "outputs": [
    {
     "name": "stdout",
     "output_type": "stream",
     "text": [
      "Process object, bound to https://defense-prod05.conferdeploy.net.\n",
      "-------------------------------------------------------------------------------\n",
      "\n",
      "       backend_timestamp: 2019-09-30T13:40:09.029Z\n",
      "         childproc_count: 0\n",
      "         crossproc_count: 16\n",
      "      device_external_ip: 96.234.213.61\n",
      "            device_group: \n",
      "               device_id: 12647886\n",
      "      device_internal_ip: \n",
      "             device_name: pscr-training\n",
      "               device_os: WINDOWS\n",
      "        device_policy_id: 12202\n",
      "        device_timestamp: 2019-09-30T13:34:44.118Z\n",
      "                enriched: False\n",
      "           filemod_count: 12\n",
      "             index_class: default\n",
      "            ingress_time: 1569850764922\n",
      "                  legacy: False\n",
      "           modload_count: 130\n",
      "           netconn_count: 2\n",
      "                  org_id: N4LFP2KN\n",
      "             parent_guid: N4LFP2KN-00c0fdce-00000eb4-00000000-1d57790a364...\n",
      "             parent_hash: ['40ee6feb000be5ef2be0b850cc85a4d7', '7aa9355ce...\n",
      "             parent_name: c:\\windows\\explorer.exe\n",
      "              parent_pid: 3764\n",
      "            partition_id: 0\n",
      "         process_cmdline: ['\"C:\\\\Program Files\\\\Microsoft Office\\\\Office1...\n",
      "    process_effective_reputation: TRUSTED_WHITE_LIST\n",
      "            process_guid: N4LFP2KN-00c0fdce-000008b0-00000000-1d57793423b...\n",
      "            process_hash: ['552b5961526d4cd223a40f882cc77611', 'cd36a7be2...\n",
      "            process_name: c:\\program files\\microsoft office\\office16\\exce...\n",
      "             process_pid: [2224]\n",
      "      process_reputation: TRUSTED_WHITE_LIST\n",
      "      process_terminated: True\n",
      "        process_username: ['PSCR-TRAINING\\\\PSCR']\n",
      "            regmod_count: 98\n",
      "        scriptload_count: 0\n"
     ]
    }
   ],
   "source": [
    "interesting_process_guid='N4LFP2KN-00c0fdce-000008b0-00000000-1d57793423b0e30'\n",
    "process = unique_processes[interesting_process_guid]\n",
    "print(process)"
   ]
  },
  {
   "cell_type": "markdown",
   "metadata": {},
   "source": [
    "# Reports, Watchlists, and Feeds\n",
    "\n",
    "We confirmed that we are seeing some of the activity that `@Heinzeralli` was tweeting about in our environment, now rather than doing something like setting up a local cron job to repeated run the search for us, we would like to use the similar fucntionality that is already built-in to CB ThreatHunter.\n",
    "\n",
    "To do this we will explore the concept of iocs, reports, watchlists, and feeds.\n",
    "\n",
    "**NOTE** For more detailed information on the feeds and watchlists data model please take a look at [Watchlist Demo](watchlist_demo.ipynb)"
   ]
  },
  {
   "cell_type": "markdown",
   "metadata": {},
   "source": [
    "## Create a Query Based Report"
   ]
  },
  {
   "cell_type": "code",
   "execution_count": 13,
   "metadata": {},
   "outputs": [
    {
     "name": "stderr",
     "output_type": "stream",
     "text": [
      "Report created without feed ID or not from watchlist\n"
     ]
    },
    {
     "name": "stdout",
     "output_type": "stream",
     "text": [
      "Report object, bound to https://defense-prod05.conferdeploy.net.\n",
      "-------------------------------------------------------------------------------\n",
      "\n",
      "             description: Detected an instance of Excel spawning powershe...\n",
      "                      id: uPKw3bRTQQCcZVWICV3HQg\n",
      "                    iocs: None\n",
      "                 iocs_v2: [{'id': 'notepad_child_proc', 'match_type': 'qu...\n",
      "                    link: https://devday2019.carbonblack.com/excelPowersh...\n",
      "                severity: 8\n",
      "                    tags: None\n",
      "               timestamp: 1569855699\n",
      "                   title: Excel with powershell child process\n",
      "              visibility: None\n"
     ]
    }
   ],
   "source": [
    "report_dict = {\n",
    "    \"id\":\"randomidentifier\",\n",
    "    \"timestamp\": int(time.time()),\n",
    "    \"link\": \"https://devday2019.carbonblack.com/excelPowershellReport\",\n",
    "    \"title\": \"Excel with powershell child process\",\n",
    "    \"description\": \"Detected an instance of Excel spawning powershell.exe\",\n",
    "    \"severity\": 8,\n",
    "    \"iocs_v2\": [\n",
    "        {\n",
    "            \"id\":\"excel_powershell_child\",\n",
    "            \"match_type\":\"query\",\n",
    "            \"values\":[\"process_name:excel.exe childproc_name:powershell.exe\"],\n",
    "            \"link\": \"https://devday2019.carbonblack.com/excelPowershellReport\"\n",
    "        }\n",
    "    ]\n",
    "}\n",
    "\n",
    "report_obj = th.create(Report,report_dict)\n",
    "report_obj.save_watchlist()\n",
    "print(report_obj)"
   ]
  },
  {
   "cell_type": "markdown",
   "metadata": {},
   "source": [
    "## Create a Custom Watchlist\n",
    "\n",
    "You would have noticed the warning that we recieve from the API call stating that the report we just created is not part of a watchlist or feed. Just creating a report is not enough to have this query be recurringly run against our data, so we will now create a watchlist introduce this reccuring behavior.\n",
    "\n",
    "To start our watchlist will have single report, and we can reference the id for the object that we created above.\n",
    "\n",
    "We want to levearge this watchlist to both tag data that matches our query and, because we see the results as highly suspcious, generate an alert in the PSC console."
   ]
  },
  {
   "cell_type": "code",
   "execution_count": 2,
   "metadata": {},
   "outputs": [
    {
     "ename": "NameError",
     "evalue": "name 'time' is not defined",
     "output_type": "error",
     "traceback": [
      "\u001b[0;31m---------------------------------------------------------------------------\u001b[0m",
      "\u001b[0;31mNameError\u001b[0m                                 Traceback (most recent call last)",
      "\u001b[0;32m<ipython-input-2-c05f0fd8e40c>\u001b[0m in \u001b[0;36m<module>\u001b[0;34m\u001b[0m\n\u001b[0;32m----> 1\u001b[0;31m \u001b[0mts\u001b[0m \u001b[0;34m=\u001b[0m \u001b[0mint\u001b[0m\u001b[0;34m(\u001b[0m\u001b[0mtime\u001b[0m\u001b[0;34m.\u001b[0m\u001b[0mtime\u001b[0m\u001b[0;34m(\u001b[0m\u001b[0;34m)\u001b[0m\u001b[0;34m)\u001b[0m\u001b[0;34m\u001b[0m\u001b[0;34m\u001b[0m\u001b[0m\n\u001b[0m\u001b[1;32m      2\u001b[0m watchlist_dict = {\n\u001b[1;32m      3\u001b[0m     \u001b[0;34m\"create_timestamp\"\u001b[0m\u001b[0;34m:\u001b[0m \u001b[0mts\u001b[0m\u001b[0;34m,\u001b[0m\u001b[0;34m\u001b[0m\u001b[0;34m\u001b[0m\u001b[0m\n\u001b[1;32m      4\u001b[0m     \u001b[0;34m\"last_update_timestamp\"\u001b[0m\u001b[0;34m:\u001b[0m\u001b[0mts\u001b[0m\u001b[0;34m,\u001b[0m\u001b[0;34m\u001b[0m\u001b[0;34m\u001b[0m\u001b[0m\n\u001b[1;32m      5\u001b[0m     \u001b[0;34m\"name\"\u001b[0m\u001b[0;34m:\u001b[0m \u001b[0;34m\"DevDay Example Watchlist\"\u001b[0m\u001b[0;34m,\u001b[0m\u001b[0;34m\u001b[0m\u001b[0;34m\u001b[0m\u001b[0m\n",
      "\u001b[0;31mNameError\u001b[0m: name 'time' is not defined"
     ]
    }
   ],
   "source": [
    "ts = int(time.time())\n",
    "watchlist_dict = {\n",
    "    \"create_timestamp\": ts,\n",
    "    \"last_update_timestamp\":ts,\n",
    "    \"name\": \"DevDay Example Watchlist\",\n",
    "    \"description\": \"Pretty cool, its a watchlist\",\n",
    "    \"tags_enabled\": True,\n",
    "    \"alerts_enabled\": True,\n",
    "    \"report_ids\": [report_obj.id]\n",
    "}\n",
    "\n",
    "watchlist_obj = th.create(Watchlist,watchlist_dict)\n",
    "watchlist_obj.save()"
   ]
  },
  {
   "cell_type": "markdown",
   "metadata": {},
   "source": [
    "And lets take a look to make sure the report got added correctly"
   ]
  },
  {
   "cell_type": "code",
   "execution_count": 15,
   "metadata": {},
   "outputs": [
    {
     "name": "stdout",
     "output_type": "stream",
     "text": [
      "Report object, bound to https://defense-prod05.conferdeploy.net.\n",
      "-------------------------------------------------------------------------------\n",
      "\n",
      "             description: Detected an instance of Excel spawning powershe...\n",
      "                      id: uPKw3bRTQQCcZVWICV3HQg\n",
      "                    iocs: None\n",
      "                 iocs_v2: [{'id': 'notepad_child_proc', 'match_type': 'qu...\n",
      "                    link: https://devday2019.carbonblack.com/excelPowersh...\n",
      "                severity: 8\n",
      "                    tags: None\n",
      "               timestamp: 1569855699\n",
      "                   title: Excel with powershell child process\n",
      "              visibility: None\n"
     ]
    }
   ],
   "source": [
    "for report in watchlist_obj.reports:\n",
    "    print(report)"
   ]
  },
  {
   "cell_type": "markdown",
   "metadata": {},
   "source": [
    "## Create an Ingress Based Report\n",
    "\n",
    "`@Heinzeralli` has recently published an additional IOC from their research indicating that there has been an increase in threat actors attempting to obfuscate their activity by through naming executables in a way that may slip by a quick inspection of process name.\n",
    "\n",
    "Since this IOC is focused on just a single field in CB ThreatHunter data we can create a report that will be process as data is being ingested, indexed and storage. While these types of reports must be created agains a single field each field supports all the \"match types\" that would be expected for query based reports."
   ]
  },
  {
   "cell_type": "code",
   "execution_count": 16,
   "metadata": {},
   "outputs": [
    {
     "name": "stderr",
     "output_type": "stream",
     "text": [
      "Report created without feed ID or not from watchlist\n"
     ]
    },
    {
     "name": "stdout",
     "output_type": "stream",
     "text": [
      "Report object, bound to https://defense-prod05.conferdeploy.net.\n",
      "-------------------------------------------------------------------------------\n",
      "\n",
      "             description: Detected an instance of suspicious powershell.exe\n",
      "                      id: Qjcj5NfQvyDVmHvTq2bjg\n",
      "                    iocs: None\n",
      "                 iocs_v2: [{'id': 'notepad_name_ioc', 'match_type': 'rege...\n",
      "                    link: https://devday2019.carbonblack.com/notPowershell\n",
      "                severity: 8\n",
      "                    tags: None\n",
      "               timestamp: 1569855794\n",
      "                   title: Misspelled Notepad\n",
      "              visibility: None\n"
     ]
    }
   ],
   "source": [
    "ingress_report_dict = {\n",
    "    \"id\":\"randomidentifier\",\n",
    "    \"timestamp\": int(time.time()),\n",
    "    \"link\": \"https://devday2019.carbonblack.com/notExcel\",\n",
    "    \"title\": \"Misspelled Excel\",\n",
    "    \"description\": \"Detected an instance of suspicious Msft Excel\",\n",
    "    \"severity\": 8,\n",
    "    \"iocs_v2\": [\n",
    "        {\n",
    "            \"id\":\"winword_name_ioc\",\n",
    "            \"match_type\":\"regex\",\n",
    "            \"field\":\"process_name\",\n",
    "            \"values\": [\"excl.exe\"],\n",
    "            \"link\": \"https://devday2019.carbonblack.com/notExcel\"\n",
    "        }\n",
    "    ]\n",
    "}\n",
    "ingress_report_obj = th.create(Report,ingress_report_dict)\n",
    "ingress_report_obj.save_watchlist()\n",
    "print(ingress_report_obj)"
   ]
  },
  {
   "cell_type": "markdown",
   "metadata": {},
   "source": [
    "Now we are going to update our watchlist to include our ingress report as well, note that currently with `cbapi` you need to call they update which will overwrite existing reports that are tied to this watchlist."
   ]
  },
  {
   "cell_type": "code",
   "execution_count": 17,
   "metadata": {},
   "outputs": [
    {
     "name": "stdout",
     "output_type": "stream",
     "text": [
      "Report object, bound to https://defense-prod05.conferdeploy.net.\n",
      "-------------------------------------------------------------------------------\n",
      "\n",
      "             description: Detected an instance of suspicious powershell.exe\n",
      "                      id: Qjcj5NfQvyDVmHvTq2bjg\n",
      "                    iocs: None\n",
      "                 iocs_v2: [{'id': 'notepad_name_ioc', 'match_type': 'rege...\n",
      "                    link: https://devday2019.carbonblack.com/notPowershell\n",
      "                severity: 8\n",
      "                    tags: None\n",
      "               timestamp: 1569855794\n",
      "                   title: Misspelled Notepad\n",
      "              visibility: None\n",
      "Report object, bound to https://defense-prod05.conferdeploy.net.\n",
      "-------------------------------------------------------------------------------\n",
      "\n",
      "             description: Detected an instance of suspicious powershell.exe\n",
      "                      id: Qjcj5NfQvyDVmHvTq2bjg\n",
      "                    iocs: None\n",
      "                 iocs_v2: [{'id': 'notepad_name_ioc', 'match_type': 'rege...\n",
      "                    link: https://devday2019.carbonblack.com/notPowershell\n",
      "                severity: 8\n",
      "                    tags: None\n",
      "               timestamp: 1569855794\n",
      "                   title: Misspelled Notepad\n",
      "              visibility: None\n"
     ]
    }
   ],
   "source": [
    "watchlist_obj.id\n",
    "watchlist_obj.update(report_ids=[report_obj.id,ingress_report_obj.id])\n",
    "for report in watchlist_obj.reports:\n",
    "    print(report)"
   ]
  },
  {
   "cell_type": "markdown",
   "metadata": {},
   "source": [
    "## Create a Feed \n",
    "\n",
    "It turns out that all that the intel published by `@Heinzeralli` that we just leveraged to create our watchlist is actually part of a long running effort to give back to the CB ThreatHunter community and he is constantly pushing out new intel, maybe this should all actually be a feed.\n",
    "\n",
    "Note that, when creating feed, you need to put report definitions in place - you cannot reference existing reports. Also, you will need to provide report id for each, that will be unique within the feed.\n",
    "\n",
    "The first thing that we need to do is create a feed that will hold all of `@Heinzeralli`'s intel."
   ]
  },
  {
   "cell_type": "code",
   "execution_count": 19,
   "metadata": {},
   "outputs": [
    {
     "name": "stderr",
     "output_type": "stream",
     "text": [
      "Report created without feed ID or not from watchlist\n",
      "Report created without feed ID or not from watchlist\n"
     ]
    },
    {
     "name": "stdout",
     "output_type": "stream",
     "text": [
      "Feed object, bound to https://defense-prod05.conferdeploy.net.\n",
      "-------------------------------------------------------------------------------\n",
      "\n",
      "                  access: private\n",
      "                category: DevDay demo\n",
      "                      id: c25UcBHQQbmtTIariUJzuw\n",
      "                    name: Office Attacks\n",
      "                   owner: N4LFP2KN\n",
      "            provider_url: https://devday2019.carbonblack.com/officeAttack...\n",
      "            source_label: None\n",
      "                 summary: Various attacks using Office\n"
     ]
    }
   ],
   "source": [
    "init_feed = {\n",
    "    \"feedinfo\":{\n",
    "        \"name\": \"Office Attacks\", \n",
    "        \"provider_url\": \"https://devday2019.carbonblack.com/officeAttacksFeed\",\n",
    "        \"summary\": \"Various attacks using Office\",\n",
    "        \"category\": \"DevDay demo\",\n",
    "        \"access\":\"private\",\n",
    "        \"owner\":th.credentials['org_key']\n",
    "    }, \n",
    "    \"reports\":[{\"timestamp\": int(time.time()),\n",
    "    \"id\": \"report1\",\n",
    "    \"link\": \"https://devday2019.carbonblack.com/excelIOC\",\n",
    "      \"title\": \"Misspelled Excel\",\n",
    "      \"description\": \"Detected an instance of suspicious excel.exe\",\n",
    "      \"severity\": 7,\n",
    "      \"iocs_v2\": [\n",
    "          {\n",
    "              \"id\": \"regex_excel_ioc2\",\n",
    "              \"match_type\": \"regex\",\n",
    "              \"field\": \"process_name\",\n",
    "              \"values\": [\".+/3xc3l.exe\"],\n",
    "              \"link\": \"https://devday2019.carbonblack.com/excelIOCReport\"\n",
    "          }\n",
    "      ]\n",
    "    },                    \n",
    "   {\"timestamp\": int(time.time()),\n",
    "    \"id\": \"report2\",\n",
    "    \"link\": \"https://devday2019.carbonblack.com/excelChildReport\",\n",
    "      \"title\": \"Notepad spawning processes\",\n",
    "      \"description\": \"Detected an instance of excel.exe spawns powershell.exe\",\n",
    "      \"severity\": 8,\n",
    "      \"iocs_v2\": [\n",
    "          {\n",
    "              \"id\": \"query_excel_ioc\",\n",
    "              \"match_type\": \"query\",\n",
    "              \"values\": [\"process_name:excel.exe childproc_name:powershell.exe\"],\n",
    "              \"link\": \"https://devday2019.carbonblack.com/excelPowershellReport\"\n",
    "          }\n",
    "      ]\n",
    "   }]\n",
    "}\n",
    "\n",
    "feed_obj = th.create(Feed,init_feed)\n",
    "feed_obj.save()\n",
    "print(feed_obj)"
   ]
  },
  {
   "cell_type": "markdown",
   "metadata": {},
   "source": [
    "In order to apply the intel in the feed to our data we need to \"subscribe\" by creating a watchlist that will essentially be a reference to the Feed.\n",
    "Rather than creating a brand new watchlist, we will just modify the one from our previous example to use the feed"
   ]
  },
  {
   "cell_type": "code",
   "execution_count": 20,
   "metadata": {},
   "outputs": [
    {
     "name": "stdout",
     "output_type": "stream",
     "text": [
      "Watchlist object, bound to https://defense-prod05.conferdeploy.net.\n",
      "-------------------------------------------------------------------------------\n",
      "\n",
      "          alerts_enabled: False\n",
      "              classifier: {'key': 'feed_id', 'value': 'c25UcBHQQbmtTIariU...\n",
      "        create_timestamp: 1569855715\n",
      "             description: It's now a feed!\n",
      "                      id: 4onPxYiySOigkvODRDu6Aw\n",
      "    last_update_timestamp: 1569859881\n",
      "                    name: DevDay Test Watchlist\n",
      "              report_ids: ['Qjcj5NfQvyDVmHvTq2bjg', 'uPKw3bRTQQCcZVWICV3H...\n",
      "            tags_enabled: True\n"
     ]
    }
   ],
   "source": [
    "watchlist_obj.update(description=\"It's now from a feed!\",classifier={'key':'feed_id','value':feed_obj.id})\n",
    "print(watchlist_obj)"
   ]
  },
  {
   "cell_type": "code",
   "execution_count": 21,
   "metadata": {},
   "outputs": [
    {
     "name": "stderr",
     "output_type": "stream",
     "text": [
      "Report created without feed ID or not from watchlist\n"
     ]
    }
   ],
   "source": [
    "new_report_dict = {\n",
    "    \"id\":\"randomidentifier1\",\n",
    "    \"timestamp\": int(time.time()),\n",
    "    \"link\": \"https://devday2019.carbonblack.com/excelCmdReport\",\n",
    "    \"title\": \"Excel spawns cmd.exe\",\n",
    "    \"description\": \"Excel creating a cmd.exe process\",\n",
    "    \"severity\": 8,\n",
    "    \"iocs_v2\": [\n",
    "        {\n",
    "            \"id\":\"excel_cmd_child\",\n",
    "            \"match_type\":\"query\",\n",
    "            \"values\":[\"process_name:excel.exe childproc_name:cmd.exe\"],\n",
    "            \"link\": \"https://devday2019.carbonblack.com/excelCmdReport\"\n",
    "        }\n",
    "    ]\n",
    "}\n",
    "\n",
    "new_report_obj = th.create(Report,new_report_dict)\n",
    "feed_obj.append_reports([new_report_obj])"
   ]
  },
  {
   "cell_type": "markdown",
   "metadata": {},
   "source": [
    "# Clean up your org"
   ]
  },
  {
   "cell_type": "code",
   "execution_count": 105,
   "metadata": {},
   "outputs": [],
   "source": [
    "#delete the watchlist\n",
    "print(f\"Deleting watchlist {watchlist_obj.id}\")\n",
    "watchlist_obj.delete()\n",
    "#delete the reports as part of the feed\n",
    "for report in feed_obj.reports:\n",
    "    print(f\"Deleting report {report.id}\")\n",
    "    report.delete()\n",
    "#delete the feed\n",
    "print(f\"Deleting feed {feed_obj.id}\")\n",
    "feed_obj.delete()"
   ]
  },
  {
   "cell_type": "code",
   "execution_count": 106,
   "metadata": {},
   "outputs": [
    {
     "name": "stdout",
     "output_type": "stream",
     "text": [
      "Deleting report pZ0hFfpRzqcwSgRkFiTgQ\n",
      "Deleting report u0LxdkjSRo2pHorhsXnpEA\n"
     ]
    }
   ],
   "source": [
    "#clean up the orphaned reports from our first watchlist\n",
    "#`cbapi` has not yet implemented feedsearch so we use the raw object references\n",
    "ret = th.get_object(f\"/threathunter/feedsearch/v1/orgs/{orgkey}/search?query=devday2019\")\n",
    "for rid in ([r[\"_id\"] for r in ret[\"hits\"][\"hits\"]]):\n",
    "    print(f\"Deleting report {rid}\")\n",
    "    try:\n",
    "        th.delete_object(f\"/threathunter/watchlistmgr/v3/orgs/{orgkey}/reports/{rid}\")\n",
    "    except Exception as e:\n",
    "        print(f'...Failed to delete report {rid}: {e}')"
   ]
  }
 ],
 "metadata": {
  "kernelspec": {
   "display_name": "Python 3",
   "language": "python",
   "name": "python3"
  },
  "language_info": {
   "codemirror_mode": {
    "name": "ipython",
    "version": 3
   },
   "file_extension": ".py",
   "mimetype": "text/x-python",
   "name": "python",
   "nbconvert_exporter": "python",
   "pygments_lexer": "ipython3",
   "version": "3.7.4"
  }
 },
 "nbformat": 4,
 "nbformat_minor": 2
}
