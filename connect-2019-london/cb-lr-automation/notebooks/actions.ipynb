{
 "cells": [
  {
   "cell_type": "markdown",
   "metadata": {},
   "source": [
    "# Build `actions` component\n",
    "\n",
    "This notebook contains sample code that we will use to generate our `actions` component in the\n",
    "PSC Live Response orchestration demonstration.\n",
    "\n",
    "Here we can run `cbapi` code interactively to test out new commands, try new features, and refine\n",
    "the code before pasting it into an automated script.\n",
    "\n",
    "## Boilerplate\n",
    "\n",
    "First we'll start with some logging boilerplate so we can see all DEBUG log output that the\n",
    "`cbapi` module creates, in case we end up with any errors."
   ]
  },
  {
   "cell_type": "code",
   "execution_count": null,
   "metadata": {},
   "outputs": [],
   "source": [
    "import logging\n",
    "logging.basicConfig()\n",
    "logging.getLogger(\"cbapi\").setLevel(logging.DEBUG)"
   ]
  },
  {
   "cell_type": "markdown",
   "metadata": {},
   "source": [
    "## Create `CbDefenseAPI` object\n",
    "\n",
    "For now our platform APIs are hosted in the Defense API namespace. So here we will create an\n",
    "API key with \"Live Response\" capability inside the CB PSC console, and save the credentials\n",
    "to our `cbapi` credential file.\n",
    "\n",
    "My credential profile is named `eap01-cbtestps` so we will use that as the parameter to the\n",
    "`CbDefenseAPI` constructor here."
   ]
  },
  {
   "cell_type": "code",
   "execution_count": null,
   "metadata": {},
   "outputs": [],
   "source": [
    "from cbapi.psc.defense import *\n",
    "c = CbDefenseAPI(profile=\"eap01-cbtestps\")"
   ]
  },
  {
   "cell_type": "markdown",
   "metadata": {},
   "source": [
    "## Select the device we want to run on\n",
    "\n",
    "Now we'll select a device by ID directly. In the final version of our script, we'll get\n",
    "the device IDs from the `triggers` component by polling for notifications. But for now\n",
    "we'll just test by going direct to a device we know is online and will accept our\n",
    "Live Response request."
   ]
  },
  {
   "cell_type": "code",
   "execution_count": null,
   "metadata": {},
   "outputs": [],
   "source": [
    "dev = c.select(Device, 21212)"
   ]
  },
  {
   "cell_type": "markdown",
   "metadata": {},
   "source": [
    "## Get some info on this device\n",
    "\n",
    "As an example of how `cbapi` is 'lazy' - our first time we print out the device info we'll see\n",
    "there is no information about this device, and in fact, no API call was made to the backend.\n",
    "We'll call to get the hostname of this device just to demonstrate that API calls will be made\n",
    "on demand to get the information we need.\n",
    "\n",
    "Note that we don't have to make any API calls to execute our next command, which will be to \n",
    "open the Live Response session to this device. That is, you can safely delete the `dev.name`\n",
    "line below and the script will continue to function and not make an unnecessary API call to get\n",
    "device details."
   ]
  },
  {
   "cell_type": "code",
   "execution_count": null,
   "metadata": {},
   "outputs": [],
   "source": [
    "print(dev)"
   ]
  },
  {
   "cell_type": "code",
   "execution_count": null,
   "metadata": {},
   "outputs": [],
   "source": [
    "dev.name"
   ]
  },
  {
   "cell_type": "code",
   "execution_count": null,
   "metadata": {},
   "outputs": [],
   "source": [
    "print(dev)"
   ]
  },
  {
   "cell_type": "markdown",
   "metadata": {},
   "source": [
    "## Start the Live Response session\n",
    "\n",
    "Now we can open a Live Response session to this device. Note that this takes a while- which\n",
    "is why I clicked 'run all' at the start, before I started droning on describing verbally\n",
    "each of these code lines.\n",
    "\n",
    "Hopefully by the time I got here, the session is already open and we can continue on..."
   ]
  },
  {
   "cell_type": "code",
   "execution_count": null,
   "metadata": {},
   "outputs": [],
   "source": [
    "session = dev.lr_session()"
   ]
  },
  {
   "cell_type": "markdown",
   "metadata": {},
   "source": [
    "## Endpoint Actions\n",
    "\n",
    "Now that we have an active Live Response session, we can try a few things that we want\n",
    "our script to accomplish. Let's start by retrieving a file..."
   ]
  },
  {
   "cell_type": "code",
   "execution_count": null,
   "metadata": {},
   "outputs": [],
   "source": [
    "session.get_file(\"c:\\\\test.txt\")"
   ]
  },
  {
   "cell_type": "markdown",
   "metadata": {},
   "source": [
    "OK so that worked... let's try starting a few processes and getting the information back\n",
    "as a string!"
   ]
  },
  {
   "cell_type": "code",
   "execution_count": null,
   "metadata": {},
   "outputs": [],
   "source": [
    "print(session.create_process(\"ipconfig /all\").decode('utf8'))"
   ]
  },
  {
   "cell_type": "code",
   "execution_count": null,
   "metadata": {},
   "outputs": [],
   "source": [
    "print(session.create_process(\"net start\").decode('utf8'))"
   ]
  },
  {
   "cell_type": "markdown",
   "metadata": {},
   "source": [
    "Finally, let's do some magic and get the list of currently logged-in users... that will feed\n",
    "our next request to get the Chrome browser history for these logged-in users."
   ]
  },
  {
   "cell_type": "code",
   "execution_count": null,
   "metadata": {},
   "outputs": [],
   "source": [
    "running_processes = session.list_processes()\n",
    "\n",
    "# get the list of currently logged-in users\n",
    "users = set([proc['username'].split('\\\\')[-1]\n",
    "             for proc in running_processes if proc['path'].find('explorer.exe') != -1])\n",
    "\n",
    "print(\"There are {0} users logged in: {1}\".format(len(users), \", \".join(list(users))))"
   ]
  },
  {
   "cell_type": "code",
   "execution_count": null,
   "metadata": {},
   "outputs": [],
   "source": [
    "username = list(users)[0]          # get the first username\n",
    "\n",
    "history_file = \\\n",
    "                session.get_file(\"c:\\\\users\\\\%s\\\\appdata\\\\local\\\\google\\\\chrome\\\\user data\\\\default\\\\history\"\n",
    "                                 % username)\n"
   ]
  },
  {
   "cell_type": "markdown",
   "metadata": {},
   "source": [
    "## Close the session\n",
    "\n",
    "And now we're done - let's close the session and take a look at what we acquired!"
   ]
  },
  {
   "cell_type": "code",
   "execution_count": null,
   "metadata": {},
   "outputs": [],
   "source": [
    "session.close()"
   ]
  },
  {
   "cell_type": "code",
   "execution_count": null,
   "metadata": {},
   "outputs": [],
   "source": [
    "len(history_file)"
   ]
  },
  {
   "cell_type": "code",
   "execution_count": null,
   "metadata": {},
   "outputs": [],
   "source": [
    "history_file[:100]"
   ]
  },
  {
   "cell_type": "code",
   "execution_count": null,
   "metadata": {},
   "outputs": [],
   "source": []
  }
 ],
 "metadata": {
  "kernelspec": {
   "display_name": "Python 3",
   "language": "python",
   "name": "python3"
  },
  "language_info": {
   "codemirror_mode": {
    "name": "ipython",
    "version": 3
   },
   "file_extension": ".py",
   "mimetype": "text/x-python",
   "name": "python",
   "nbconvert_exporter": "python",
   "pygments_lexer": "ipython3",
   "version": "3.7.3"
  }
 },
 "nbformat": 4,
 "nbformat_minor": 2
}
